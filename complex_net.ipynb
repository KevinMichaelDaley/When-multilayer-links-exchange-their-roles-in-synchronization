{
 "cells": [
  {
   "cell_type": "code",
   "execution_count": 528,
   "metadata": {
    "scrolled": false
   },
   "outputs": [
    {
     "name": "stdout",
     "output_type": "stream",
     "text": [
      "[[0 1 1 1 1 1 1 1 0 0 0 0 0 0 0 0 0 0 0 0]\n",
      " [1 0 1 0 1 1 1 1 1 1 0 0 0 0 0 0 0 0 0 0]\n",
      " [1 1 0 1 0 0 1 0 0 0 0 0 0 0 0 0 0 0 0 0]\n",
      " [1 0 1 0 0 1 0 1 0 1 0 0 0 0 0 0 0 0 0 0]\n",
      " [1 1 0 0 0 1 1 1 1 1 0 0 0 0 0 0 0 0 0 0]\n",
      " [1 1 0 1 1 0 1 0 0 1 0 0 0 0 0 0 0 0 0 0]\n",
      " [1 1 1 0 1 1 0 1 0 0 0 0 0 0 0 0 0 0 0 0]\n",
      " [1 1 0 1 1 0 1 0 0 1 0 0 0 0 0 0 0 0 0 0]\n",
      " [0 1 0 0 1 0 0 0 0 0 0 0 0 0 0 0 0 0 0 0]\n",
      " [0 1 0 1 1 1 0 1 0 0 0 0 0 0 0 0 0 0 0 0]\n",
      " [0 0 0 0 0 0 0 0 0 0 0 1 1 0 0 0 0 0 1 1]\n",
      " [0 0 0 0 0 0 0 0 0 0 1 0 0 0 1 0 1 0 1 1]\n",
      " [0 0 0 0 0 0 0 0 0 0 1 0 0 0 0 1 0 0 1 1]\n",
      " [0 0 0 0 0 0 0 0 0 0 0 0 0 0 1 1 1 1 0 0]\n",
      " [0 0 0 0 0 0 0 0 0 0 0 1 0 1 0 1 0 0 1 1]\n",
      " [0 0 0 0 0 0 0 0 0 0 0 0 1 1 1 0 1 1 1 1]\n",
      " [0 0 0 0 0 0 0 0 0 0 0 1 0 1 0 1 0 1 1 1]\n",
      " [0 0 0 0 0 0 0 0 0 0 0 0 0 1 0 1 1 0 1 0]\n",
      " [0 0 0 0 0 0 0 0 0 0 1 1 1 0 1 1 1 1 0 0]\n",
      " [0 0 0 0 0 0 0 0 0 0 1 1 1 0 1 1 1 0 0 0]]\n",
      "[[0. 0. 0. 0. 0. 0. 0. 0. 0. 0. 1. 0. 0. 0. 0. 0. 0. 0. 0. 0.]\n",
      " [0. 0. 0. 0. 0. 0. 0. 0. 0. 0. 0. 1. 0. 0. 0. 0. 0. 0. 0. 0.]\n",
      " [0. 0. 0. 0. 0. 0. 0. 0. 0. 0. 0. 0. 0. 0. 0. 0. 0. 0. 0. 0.]\n",
      " [0. 0. 0. 0. 0. 0. 0. 0. 0. 0. 0. 0. 0. 0. 0. 0. 0. 0. 0. 0.]\n",
      " [0. 0. 0. 0. 0. 0. 0. 0. 0. 0. 0. 0. 0. 0. 1. 0. 0. 0. 0. 0.]\n",
      " [0. 0. 0. 0. 0. 0. 0. 0. 0. 0. 0. 0. 0. 0. 0. 1. 0. 0. 0. 0.]\n",
      " [0. 0. 0. 0. 0. 0. 0. 0. 0. 0. 0. 0. 0. 0. 0. 0. 1. 0. 0. 0.]\n",
      " [0. 0. 0. 0. 0. 0. 0. 0. 0. 0. 0. 0. 0. 0. 0. 0. 0. 1. 0. 0.]\n",
      " [0. 0. 0. 0. 0. 0. 0. 0. 0. 0. 0. 0. 0. 0. 0. 0. 0. 0. 1. 0.]\n",
      " [0. 0. 0. 0. 0. 0. 0. 0. 0. 0. 0. 0. 0. 0. 0. 0. 0. 0. 0. 1.]\n",
      " [1. 1. 0. 0. 0. 0. 0. 0. 0. 0. 0. 0. 0. 0. 0. 0. 0. 0. 0. 0.]\n",
      " [0. 1. 1. 0. 0. 0. 0. 0. 0. 0. 0. 0. 0. 0. 0. 0. 0. 0. 0. 0.]\n",
      " [0. 0. 0. 0. 0. 0. 0. 0. 0. 0. 0. 0. 0. 0. 0. 0. 0. 0. 0. 0.]\n",
      " [0. 0. 0. 0. 0. 0. 0. 0. 0. 0. 0. 0. 0. 0. 0. 0. 0. 0. 0. 0.]\n",
      " [0. 0. 0. 0. 1. 0. 0. 0. 0. 0. 0. 0. 0. 0. 0. 0. 0. 0. 0. 0.]\n",
      " [0. 0. 0. 0. 0. 1. 1. 0. 0. 0. 0. 0. 0. 0. 0. 0. 0. 0. 0. 0.]\n",
      " [0. 0. 0. 0. 0. 0. 1. 0. 0. 0. 0. 0. 0. 0. 0. 0. 0. 0. 0. 0.]\n",
      " [0. 0. 0. 0. 0. 0. 0. 1. 1. 0. 0. 0. 0. 0. 0. 0. 0. 0. 0. 0.]\n",
      " [0. 0. 0. 0. 0. 0. 0. 0. 1. 1. 0. 0. 0. 0. 0. 0. 0. 0. 0. 0.]\n",
      " [0. 0. 0. 0. 0. 0. 0. 0. 0. 1. 0. 0. 0. 0. 0. 0. 0. 0. 0. 0.]]\n",
      "0\n",
      "10\n",
      "20\n",
      "30\n",
      "40\n"
     ]
    },
    {
     "name": "stderr",
     "output_type": "stream",
     "text": [
      "<ipython-input-528-f6da22979bb3>:89: MatplotlibDeprecationWarning: shading='flat' when X and Y have the same dimensions as C is deprecated since 3.3.  Either specify the corners of the quadrilaterals with X and Y, or pass shading='auto', 'nearest' or 'gouraud', or set rcParams['pcolor.shading'].  This will become an error two minor releases later.\n",
      "  plt.pcolor(epsx, epsy, im3>0)\n"
     ]
    },
    {
     "data": {
      "text/plain": [
       "<Figure size 432x288 with 0 Axes>"
      ]
     },
     "execution_count": 528,
     "metadata": {},
     "output_type": "execute_result"
    },
    {
     "data": {
      "image/png": "[encoded data removed]",
      "text/plain": [
       "<Figure size 432x288 with 2 Axes>"
      ]
     },
     "metadata": {
      "needs_background": "light"
     },
     "output_type": "display_data"
    },
    {
     "data": {
      "text/plain": [
       "<Figure size 432x288 with 0 Axes>"
      ]
     },
     "metadata": {},
     "output_type": "display_data"
    }
   ],
   "source": [
    "import numpy as np\n",
    "from scipy.integrate import odeint\n",
    "import scipy\n",
    "a=0.2\n",
    "#K=3\n",
    "def rossler_coupled(X,Y,DX,DY,Ax, eps_x, Ay, eps_y):\n",
    "    xdot=-Y+DY[0]+eps_x*(Ax*DX).sum(1)\n",
    "    ydot=X+a*(Y+DY[0])+eps_y*(Ay*DY).sum(1)\n",
    "    W=np.concatenate([xdot,ydot]).reshape([2,-1])\n",
    "    return W\n",
    "\n",
    "def rossler_intrinsic(S,t):\n",
    "    X,Y,Z=S[0], S[1], S[2]\n",
    "    xdot=-Y-Z\n",
    "    ydot=X+a*Y\n",
    "    zdot=b+Z*(X-c)\n",
    "    return np.array([xdot,ydot,zdot])\n",
    "    \n",
    "\n",
    "#G=np.array([[0,1,0],[1,0,0],[0,0,0]])\n",
    "#H=np.array([[0,0,0],[0,0,1],[0,1,0]])\n",
    "\n",
    "#K=3\n",
    "K=20\n",
    "H=(np.random.randn(K//2,K//2)<0.3)*(1.0-np.eye(K//2))\n",
    "H2=(np.random.randn(K//2,K//2)<0.3)*(1.0-np.eye(K//2))\n",
    "H=((np.triu(H)+np.triu(H).T)>0)*1\n",
    "H2=((np.triu(H2)+np.triu(H2).T)>0)*1\n",
    "H=scipy.linalg.block_diag(H,H2)\n",
    "print(H)\n",
    "G=np.zeros(G.shape)\n",
    "for i in range(K//2):\n",
    "    if np.random.rand()<0.6:\n",
    "        G[i,i+K//2]=1\n",
    "        G[i+K//2,i]=1\n",
    "        if np.random.rand()<0.4:\n",
    "            G[i+K//2,i+1]=1\n",
    "print(G)\n",
    "Kx=int(2*(K-1))\n",
    "Ky=int(2*(K-1))\n",
    "\n",
    "def matrix(e_x, e_y, Ax, Ay):\n",
    "    global K\n",
    "    Ddot=np.zeros([2,K,K,2,K,K])\n",
    "    for i in range(K):\n",
    "        for j in range(K):\n",
    "            if i==j:\n",
    "                continue\n",
    "            Ddot[0,i,j,1,i,j]=-1\n",
    "            Ddot[1,i,j,0,i,j]=1\n",
    "            Ddot[1,i,j,1,i,j]=a\n",
    "            for k in range(K):\n",
    "                if k!=i:\n",
    "                    Ddot[0,i,j,0,i,k]-=e_x*Ax[i,k]\n",
    "                    Ddot[1,i,j,1,i,k]-=e_y*Ay[i,k]\n",
    "                if k!=j:\n",
    "                    Ddot[0,i,j,0,j,k]+=e_x*Ax[j,k]\n",
    "                    Ddot[1,i,j,1,j,k]+=e_y*Ay[j,k]\n",
    "\n",
    "                    \n",
    "    return np.array(Ddot[:,:,:,:]).reshape([K*K*2,K*K*2])\n",
    "    \n",
    "    \n",
    "def stability(eps_x,eps_y):\n",
    "    B=matrix(eps_x,eps_y,G,H)\n",
    "  #  print(B)\n",
    "    E=np.linalg.eig(B)[0]\n",
    "    R=np.real(E)\n",
    "    R=R[np.abs(R-0.1)>1e-10]\n",
    "    R=R[np.abs(R)>1e-10]\n",
    "  #  print(R)\n",
    "  #  print(R_)\n",
    "    return R.max() if len(R)>0 else 0\n",
    "\n",
    "N=50\n",
    "eps=np.linspace(0,50,N)\n",
    "eps2=np.linspace(0,5,N)\n",
    "epsx=np.zeros([N,N])\n",
    "epsy=np.zeros([N,N])\n",
    "im3=np.zeros([N,N])\n",
    "for i in range(N):\n",
    "  for j in range(N):\n",
    "    im3[i,j]=stability(eps[i],eps2[j])\n",
    "    epsx[i,j]=eps[i]\n",
    "    epsy[i,j]=eps2[j]\n",
    "  if i%10==0:\n",
    "      print(i)\n",
    "\n",
    "plt.pcolor(epsx, epsy, im3>0)\n",
    "plt.colorbar()\n",
    "plt.figure()\n",
    "\n",
    "\n",
    "\n",
    "\n"
   ]
  },
  {
   "cell_type": "code",
   "execution_count": 188,
   "metadata": {
    "scrolled": true
   },
   "outputs": [
    {
     "data": {
      "image/png": "[encoded data removed]",
      "text/plain": [
       "<Figure size 432x288 with 2 Axes>"
      ]
     },
     "metadata": {
      "needs_background": "light"
     },
     "output_type": "display_data"
    }
   ],
   "source": [
    "np.savetxt('G.txt',G)\n",
    "np.savetxt('H.txt',G)\n",
    "from matplotlib import pyplot as plt\n",
    "import networkx as nx\n",
    "plt.imshow(im3.reshape([N,N]).T[:,:],cmap='magma', interpolation='none')\n",
    "plt.colorbar()\n",
    "plt.contour(epsx.reshape([N,N])*N/50,epsy.reshape([N,N])*N/5,im3.reshape([N,N]),levels=[0],colors=['k'], linestyles=['-'], linewidths=[1.5])\n",
    "plt.xlim([0,N-1])\n",
    "plt.ylim([0,N-1])\n",
    "plt.xticks([0,N-1],['0','50'])\n",
    "plt.yticks([0,N-1],['0','5'])\n",
    "plt.xlabel('$\\epsilon_x$',fontsize=20)\n",
    "plt.ylabel('$\\epsilon_y$',fontsize=20)\n",
    "plt.savefig('eigen_complex.png',dpi=600)\n"
   ]
  },
  {
   "cell_type": "code",
   "execution_count": 6,
   "metadata": {
    "scrolled": false
   },
   "outputs": [
    {
     "ename": "NameError",
     "evalue": "name 'rossler_intrinsic' is not defined",
     "output_type": "error",
     "traceback": [
      "\u001b[1;31m---------------------------------------------------------------------------\u001b[0m",
      "\u001b[1;31mNameError\u001b[0m                                 Traceback (most recent call last)",
      "\u001b[1;32m<ipython-input-6-2f9ddf04ccec>\u001b[0m in \u001b[0;36m<module>\u001b[1;34m\u001b[0m\n\u001b[0;32m     17\u001b[0m \u001b[1;33m\u001b[0m\u001b[0m\n\u001b[0;32m     18\u001b[0m \u001b[0mintrin\u001b[0m\u001b[1;33m=\u001b[0m\u001b[0mnp\u001b[0m\u001b[1;33m.\u001b[0m\u001b[0mrandom\u001b[0m\u001b[1;33m.\u001b[0m\u001b[0mrandn\u001b[0m\u001b[1;33m(\u001b[0m\u001b[1;36m3\u001b[0m\u001b[1;33m)\u001b[0m\u001b[1;33m\u001b[0m\u001b[1;33m\u001b[0m\u001b[0m\n\u001b[1;32m---> 19\u001b[1;33m \u001b[0mintrin\u001b[0m\u001b[1;33m=\u001b[0m\u001b[0modeint\u001b[0m\u001b[1;33m(\u001b[0m\u001b[0mrossler_intrinsic\u001b[0m\u001b[1;33m,\u001b[0m\u001b[0mintrin\u001b[0m\u001b[1;33m,\u001b[0m\u001b[1;33m[\u001b[0m\u001b[1;36m0\u001b[0m\u001b[1;33m,\u001b[0m\u001b[1;36m1000\u001b[0m\u001b[1;33m]\u001b[0m\u001b[1;33m)\u001b[0m\u001b[1;33m[\u001b[0m\u001b[1;33m-\u001b[0m\u001b[1;36m1\u001b[0m\u001b[1;33m]\u001b[0m\u001b[1;33m\u001b[0m\u001b[1;33m\u001b[0m\u001b[0m\n\u001b[0m\u001b[0;32m     20\u001b[0m \u001b[0mprint\u001b[0m\u001b[1;33m(\u001b[0m\u001b[0mintrin\u001b[0m\u001b[1;33m)\u001b[0m\u001b[1;33m\u001b[0m\u001b[1;33m\u001b[0m\u001b[0m\n\u001b[0;32m     21\u001b[0m \u001b[1;32mfor\u001b[0m \u001b[0mi\u001b[0m \u001b[1;32min\u001b[0m \u001b[0mrange\u001b[0m\u001b[1;33m(\u001b[0m\u001b[1;36m50\u001b[0m\u001b[1;33m)\u001b[0m\u001b[1;33m:\u001b[0m\u001b[1;33m\u001b[0m\u001b[1;33m\u001b[0m\u001b[0m\n",
      "\u001b[1;31mNameError\u001b[0m: name 'rossler_intrinsic' is not defined"
     ]
    }
   ],
   "source": [
    "from scipy.integrate import odeint\n",
    "import matplotlib.pyplot as plt\n",
    "b=0.2\n",
    "c=5.7\n",
    "#im1=np.copy(im3)\n",
    "#np.savetxt('im1_3.txt',im3)\n",
    "im2=np.zeros([50,50])\n",
    "Ax=G-np.diag(G.sum(1))\n",
    "Ay=H-np.diag(H.sum(1))\n",
    "def rossler3_coupled(S, eps_x, eps_y):\n",
    "    X,Y,Z=S.reshape([-1,3]).T\n",
    "    xdot=-Y -Z +eps_x*(Ax @ X)\n",
    "    ydot=X+a*Y + eps_y * (Ay @ Y)\n",
    "    zdot=b+Z*(X-c)\n",
    "    W=np.concatenate([xdot,ydot,zdot]).reshape([3,-1]).T.flatten()\n",
    "    return W\n",
    "\n",
    "intrin=np.random.randn(3)\n",
    "intrin=odeint(rossler_intrinsic,intrin,[0,1000])[-1]\n",
    "print(intrin)\n",
    "for i in range(50):\n",
    "    for j in range(50):\n",
    "        f=lambda x,t: rossler3_coupled(x, 50*i/50.0,5*j/50.0)\n",
    "        Sf=odeint(f,(intrin.reshape([-1,3])*np.ones([K,3])+np.random.rand(K,3)*0.01).flatten(),np.linspace(0,500,1000))[-200:]\n",
    "        SE=np.linalg.norm(Sf[:,3:].reshape([-1,K-1,3])-Sf[:,0:3].reshape([-1,1,3]),axis=2).max()\n",
    "        im2[i,j]=SE\n",
    "        print(im2[i,j],end=\" \")\n",
    "    print(i)"
   ]
  },
  {
   "cell_type": "code",
   "execution_count": 694,
   "metadata": {},
   "outputs": [
    {
     "name": "stderr",
     "output_type": "stream",
     "text": [
      "<ipython-input-694-a2a61fa7a48d>:8: RuntimeWarning: invalid value encountered in sqrt\n",
      "  my_cmap[:,0:3] =np.minimum((my_cmap[:,:3]*np.array([0.999,0.888,1.0]).reshape([1,-1])-0.01)**(1/2),1.0)\n",
      "<ipython-input-694-a2a61fa7a48d>:35: UserWarning: FixedFormatter should only be used together with FixedLocator\n",
      "  ax.set_xticklabels(list(map(str, list(range(51)))),fontsize=18)\n",
      "<ipython-input-694-a2a61fa7a48d>:36: UserWarning: FixedFormatter should only be used together with FixedLocator\n",
      "  ax.set_yticklabels(list(map(str, list(range(6)))),fontsize=18)\n"
     ]
    },
    {
     "name": "stdout",
     "output_type": "stream",
     "text": [
      "[]\n",
      "[-12. -10.  -8.  -6.  -4.  -2.   0.   2.   4.]\n",
      "[-12.  -4.   4.]\n"
     ]
    },
    {
     "data": {
      "image/png": "[encoded data removed]",
      "text/plain": [
       "<Figure size 432x288 with 2 Axes>"
      ]
     },
     "metadata": {
      "needs_background": "light"
     },
     "output_type": "display_data"
    }
   ],
   "source": [
    "np.savetxt('im2_3.txt',im2)\n",
    "from matplotlib import pyplot as plt\n",
    "from matplotlib import colors\n",
    "import networkx as nx\n",
    "from numpy import ma\n",
    "N=50\n",
    "my_cmap = plt.cm.magma(np.arange(plt.cm.magma.N))\n",
    "my_cmap[:,0:3] =np.minimum((my_cmap[:,:3]*np.array([0.999,0.888,1.0]).reshape([1,-1])-0.01)**(1/2),1.0)\n",
    "my_cmap = colors.ListedColormap(my_cmap)\n",
    "e_x,e_y=np.meshgrid(np.linspace(0,50,50),np.linspace(0,5,50))\n",
    "plt.pcolor(e_x,e_y,ma.log10(1e-100+im2.T.reshape([N,N])[:,:]).filled(-100),cmap=my_cmap,shading='nearest')\n",
    "print(np.argwhere(im2<=0))\n",
    "#plt.colorbar()\n",
    "#plt.contour(e_x,e_y,im2.T.reshape([N,N]),levels=[0.001],colors=['k'], linestyles=['-'], linewidths=[1.5])\n",
    "Cb=plt.colorbar()\n",
    "labels=Cb.get_ticks()\n",
    "print(labels)\n",
    "Cb.set_ticks(list(labels[::4]))\n",
    "labels=Cb.get_ticks()\n",
    "print(labels)\n",
    "\n",
    "Cb.set_ticklabels((('$%i$ '*len(labels))%tuple(labels)).split())\n",
    "Cb.ax.tick_params(labelsize=14)\n",
    "ax=plt.gca()\n",
    "x=np.linspace(0,50,50)\n",
    "y=np.linspace(0,5,50)\n",
    "x,y=np.meshgrid(x,y)\n",
    "plt.contour(x.reshape([50,50]),y.reshape([50,50]),im3.T.reshape([50,50]),levels=[0],colors=['w'], linestyles=['--'], linewidths=[3])\n",
    "xl=[0,50]\n",
    "yl=[0,5]\n",
    "ax.set_xlim(xl)\n",
    "ax.set_ylim(yl)\n",
    "ax.set_xlabel('$\\epsilon_x$',fontsize=35)\n",
    "ax.set_ylabel('$\\epsilon_y$',fontsize=35)\n",
    "ax.set_xticklabels(list(map(str, list(range(51)))),fontsize=18)\n",
    "ax.set_yticklabels(list(map(str, list(range(6)))),fontsize=18)\n",
    "plt.tight_layout()\n",
    "plt.savefig('SE_complex.png',dpi=600)"
   ]
  },
  {
   "cell_type": "code",
   "execution_count": 465,
   "metadata": {},
   "outputs": [
    {
     "name": "stderr",
     "output_type": "stream",
     "text": [
      "<ipython-input-465-eb2401341c88>:6: MatplotlibDeprecationWarning: shading='flat' when X and Y have the same dimensions as C is deprecated since 3.3.  Either specify the corners of the quadrilaterals with X and Y, or pass shading='auto', 'nearest' or 'gouraud', or set rcParams['pcolor.shading'].  This will become an error two minor releases later.\n",
      "  plt.pcolor(e_x,e_y,im3.T.reshape([N,N])[:,:],cmap='magma')\n"
     ]
    },
    {
     "data": {
      "image/png": "[encoded data removed]",
      "text/plain": [
       "<Figure size 432x288 with 2 Axes>"
      ]
     },
     "metadata": {
      "needs_background": "light"
     },
     "output_type": "display_data"
    }
   ],
   "source": [
    "np.savetxt('im3_2.txt',im3)\n",
    "from matplotlib import pyplot as plt\n",
    "import networkx as nx\n",
    "N=50\n",
    "e_x,e_y=np.meshgrid(np.linspace(0,50,50),np.linspace(0,5,50))\n",
    "plt.pcolor(e_x,e_y,im3.T.reshape([N,N])[:,:],cmap='magma')\n",
    "plt.colorbar()\n",
    "plt.contour(e_x,e_y,im3.T.reshape([N,N]),levels=[0.001],colors=['k'], linestyles=['-'], linewidths=[1.5])\n",
    "plt.xlim([0,50])\n",
    "plt.ylim([0,5])\n",
    "plt.xticks([0,50],['0','50'])\n",
    "plt.yticks([0,5],['0','5'])\n",
    "plt.xlabel('$\\epsilon_x$',fontsize=20)\n",
    "plt.ylabel('$\\epsilon_y$',fontsize=20)\n",
    "plt.savefig('eig_complex.eps')"
   ]
  }
 ],
 "metadata": {
  "kernelspec": {
   "display_name": "Python 3 (ipykernel)",
   "language": "python",
   "name": "python3"
  },
  "language_info": {
   "codemirror_mode": {
    "name": "ipython",
    "version": 3
   },
   "file_extension": ".py",
   "mimetype": "text/x-python",
   "name": "python",
   "nbconvert_exporter": "python",
   "pygments_lexer": "ipython3",
   "version": "3.9.7"
  }
 },
 "nbformat": 4,
 "nbformat_minor": 5
}
